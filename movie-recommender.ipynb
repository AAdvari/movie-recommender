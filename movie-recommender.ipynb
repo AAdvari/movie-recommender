{
 "cells": [
  {
   "cell_type": "code",
   "execution_count": 3,
   "id": "be7a2809",
   "metadata": {},
   "outputs": [],
   "source": [
    "import pandas as pd\n",
    "import numpy as np"
   ]
  },
  {
   "cell_type": "code",
   "execution_count": 4,
   "id": "860834e9",
   "metadata": {},
   "outputs": [
    {
     "name": "stderr",
     "output_type": "stream",
     "text": [
      "/tmp/ipykernel_22155/2021183493.py:5: DtypeWarning: Columns (10) have mixed types. Specify dtype option on import or set low_memory=False.\n",
      "  movies_metadata_ds = pd.read_csv('./dataset/IMDB/movies_metadata.csv')\n"
     ]
    }
   ],
   "source": [
    "credits_ds = pd.read_csv('./dataset/IMDB/credits.csv')\n",
    "links_ds = pd.read_csv('./dataset/IMDB/links_small.csv')\n",
    "ratings_ds = pd.read_csv('./dataset/IMDB/ratings_small.csv')\n",
    "keywords_ds = pd.read_csv('./dataset/IMDB/keywords.csv')\n",
    "movies_metadata_ds = pd.read_csv('./dataset/IMDB/movies_metadata.csv') "
   ]
  },
  {
   "cell_type": "code",
   "execution_count": null,
   "id": "0bf91af6",
   "metadata": {},
   "outputs": [],
   "source": []
  }
 ],
 "metadata": {
  "kernelspec": {
   "display_name": "Python 3 (ipykernel)",
   "language": "python",
   "name": "python3"
  },
  "language_info": {
   "codemirror_mode": {
    "name": "ipython",
    "version": 3
   },
   "file_extension": ".py",
   "mimetype": "text/x-python",
   "name": "python",
   "nbconvert_exporter": "python",
   "pygments_lexer": "ipython3",
   "version": "3.10.6"
  }
 },
 "nbformat": 4,
 "nbformat_minor": 5
}
